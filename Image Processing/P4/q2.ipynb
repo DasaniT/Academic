{
 "cells": [
  {
   "cell_type": "markdown",
   "metadata": {
    "id": "AlBpoB_79u-m"
   },
   "source": [
    "<div style=\"direction:rtl\">در این سوال از کتابخانه dlib \n",
    "برای تشخیص نقاط روی صورت استفاده شده است.\n",
    "</div>\n"
   ]
  },
  {
   "cell_type": "code",
   "execution_count": 88,
   "metadata": {
    "id": "P7dtAEGj4UIB"
   },
   "outputs": [],
   "source": [
    "import cv2\n",
    "import numpy as np\n",
    "import dlib\n",
    "from imutils import face_utils\n",
    "import imageio"
   ]
  },
  {
   "cell_type": "markdown",
   "source": [
    "<div style=\"direction:rtl\">این تابع نقطه متناظر در تصویر دوم برای نقطه داده شده از تصویر اول را محاسبه می کند.</div>"
   ],
   "metadata": {
    "collapsed": false
   }
  },
  {
   "cell_type": "code",
   "execution_count": 89,
   "metadata": {
    "id": "q7v14m3FG-GB"
   },
   "outputs": [],
   "source": [
    "def find_corresponding_point(p1):\n",
    "  if p1 in vettel_coor.tolist():\n",
    "    return hamilton_coor[vettel_coor.tolist().index(p1)]\n",
    "  else:\n",
    "    return p1\n"
   ]
  },
  {
   "cell_type": "markdown",
   "source": [
    "<div style=\"direction:rtl\">مثلث های عکس اول به این تابع داده میشوند، سپس با استفاده از تابع\n",
    "find_corresponding_point نقاط متناظر رئوس مثلث در عکس دوم محاسبه میشوند. به این ترتیب برای هر مثلث عکس اول یک مثلث متناظر در عکس دوم خواهیم داشت.</div>"
   ],
   "metadata": {
    "collapsed": false
   }
  },
  {
   "cell_type": "code",
   "execution_count": 91,
   "metadata": {
    "id": "W5C4zEQSqHWE"
   },
   "outputs": [],
   "source": [
    "def compute_second_image_triangles(triangles):\n",
    "  second_triangles = []\n",
    "  for triangle in triangles:\n",
    "      p1 = [triangle[0], triangle[1]]\n",
    "      q1 = find_corresponding_point(p1)\n",
    "      p2 = [triangle[2], triangle[3]]\n",
    "      q2 = find_corresponding_point(p2)\n",
    "      p3 = [triangle[4], triangle[5]]\n",
    "      q3 = find_corresponding_point(p3)\n",
    "      second_triangles.append([q1[0], q1[1], q2[0], q2[1], q3[0], q3[1]])\n",
    "  return np.int32(second_triangles)"
   ]
  },
  {
   "cell_type": "markdown",
   "source": [
    "<div style=\"direction:rtl\">عکس ها خوانده میشوند. vettel عکس اول و hamilton عکس دوم است.\n",
    "همچنین برای سریع تر اجرا شدن کد عکس ها به سایز 256 * 256 برده میشوند. البته در فایل ها \n",
    "res01-1.gif وجود دارد که نتیجه اجرای همین کد بدون تغییر سایز است که تقریبا 4 دقیقه به طول می انجامد. \n",
    "عکس اول از این <a href=\"https://www.formula1.com/en/drivers/sebastian-vettel.html\">لینک</a> \n",
    "و عکس دوم از این <a href=\"https://www.formula1.com/en/drivers/lewis-hamilton.html\">لینک</a> برداشته شده اند.</div>\n"
   ],
   "metadata": {
    "collapsed": false
   }
  },
  {
   "cell_type": "code",
   "execution_count": 92,
   "metadata": {
    "id": "SH9Xikzf-upp"
   },
   "outputs": [],
   "source": [
    "vettel = cv2.imread('./vettel.jpg')\n",
    "hamilton = cv2.imread('./hamilton.jpg')\n",
    "vettel = cv2.resize(vettel, (256, 256))\n",
    "hamilton = cv2.resize(hamilton, (256, 256))"
   ]
  },
  {
   "cell_type": "markdown",
   "source": [
    "<div style=\"direction:rtl\">نقاط روی صورت با استفاده از dlib محاسبه میشوند.\n",
    "هم چنین مدل استفاده شده را میتوانید از این <a href=\"https://raw.githubusercontent.com/italojs/facial-landmarks-recognition/master/shape_predictor_68_face_landmarks.dat\">لینک</a> دانلود کنید.\n",
    "بعد از دانلود باید این فایل را در کنار فایل ipynb یا py قرار دهید.</div>"
   ],
   "metadata": {
    "collapsed": false
   }
  },
  {
   "cell_type": "code",
   "execution_count": null,
   "outputs": [],
   "source": [
    "p = \"./shape_predictor_68_face_landmarks.dat\"\n",
    "detector = dlib.get_frontal_face_detector()\n",
    "predictor = dlib.shape_predictor(p)\n",
    "\n",
    "lewis = hamilton.copy()\n",
    "seb = vettel.copy()\n",
    "gray_lewis = cv2.cvtColor(lewis, cv2.COLOR_BGR2GRAY)\n",
    "gray_seb = cv2.cvtColor(seb, cv2.COLOR_BGR2GRAY)\n",
    "        \n",
    "rects = detector(gray_lewis, 0)\n",
    "    \n",
    "for (i, rect) in enumerate(rects):\n",
    "    shape = predictor(gray_lewis, rect)\n",
    "    hamilton_coor = face_utils.shape_to_np(shape)\n",
    "    \n",
    "rects = detector(gray_seb, 0)\n",
    "    \n",
    "for (i, rect) in enumerate(rects):\n",
    "    shape = predictor(gray_seb, rect)\n",
    "    vettel_coor = face_utils.shape_to_np(shape)\n",
    "    "
   ],
   "metadata": {
    "collapsed": false,
    "pycharm": {
     "name": "#%%\n"
    }
   }
  },
  {
   "cell_type": "markdown",
   "source": [
    "<div style=\"direction:rtl\">در آرایه vettel_coor نقاط تشخیص داده شده روی صورت وجود دارند. در مرحله بعد با استفاده از این نقاط\n",
    "و تابع ()getTriangleList از کتابخانه opencv عکس اول مثلث بندی می شود. هم چنین لازم به ذکر است که نقاط گوشه عکس و وسط اضلاع عکس هم به این نقاط به طور دستی برای بهتر شدن نتیجه اضافه میشوند.\n",
    "در آرایه vettel_triangles مثلث بندیهای مورد نظر را داریم.</div>"
   ],
   "metadata": {
    "collapsed": false
   }
  },
  {
   "cell_type": "code",
   "execution_count": null,
   "outputs": [],
   "source": [
    "rect = (0, 0, vettel.shape[1], vettel.shape[0])\n",
    "subdiv  = cv2.Subdiv2D(rect)\n",
    "for (x, y) in vettel_coor:\n",
    "  subdiv.insert((x, y))\n",
    "subdiv.insert((0,0))\n",
    "subdiv.insert((0, vettel.shape[0]- 1))\n",
    "subdiv.insert((0, (vettel.shape[0]- 1) // 2))\n",
    "subdiv.insert((vettel.shape[1] - 1, 0))\n",
    "subdiv.insert(((vettel.shape[1] - 1) // 2, 0))\n",
    "subdiv.insert((vettel.shape[1] - 1, vettel.shape[0] - 1))\n",
    "subdiv.insert(((vettel.shape[1] - 1)// 2, (vettel.shape[0] - 1)// 2))\n",
    "\n",
    "vettel_triangles = subdiv.getTriangleList()\n",
    "vettel_triangles = np.int32(vettel_triangles)"
   ],
   "metadata": {
    "collapsed": false,
    "pycharm": {
     "name": "#%%\n"
    }
   }
  },
  {
   "cell_type": "markdown",
   "source": [
    "<div style=\"direction:rtl\"> از تابع compute_second_image_triangles استفاده میشود تا مثلث های متناظر عکس دوم محاسبه شوند.\n",
    "50 فریم خواهیم داشت که این 50 فریم با ضرایب t مشخص میشوند. با توجه به مثلث های محاسبه شده برای دو عکس و رابطه \n",
    "p_frame = p_1 + (p_2 - p_1) * t که در کلاس در مورد آن صحبت شد، نقاط متناظر و در نتیجه مثلث های متناظر در عکس نتیجه محاسبه میشوند. رئوس مثلث ها در آرایه\n",
    "frame_triangles نگه داشته می شوند.</div>"
   ],
   "metadata": {
    "collapsed": false
   }
  },
  {
   "cell_type": "code",
   "execution_count": 93,
   "metadata": {
    "id": "jU91nYb7AUqs"
   },
   "outputs": [],
   "source": [
    "hamilton_triangles = compute_second_image_triangles(vettel_triangles)\n",
    "frames = []\n",
    "frames.append(vettel)\n",
    "\n",
    "t = np.arange(0.01, 1, 0.02)\n",
    "frame_triangles = [vettel_triangles + (hamilton_triangles - vettel_triangles) * tt for tt in t]\n",
    "frame_triangles = np.int32(frame_triangles)"
   ]
  },
  {
   "cell_type": "markdown",
   "source": [
    "<div style=\"direction:rtl\">در هر مرحله محاسبه یکی از فریم ها، یکی از مثلث ها در نظر گرفته میشود. با توجه به این مثلث،\n",
    "مثلث های متناظر در عکس دوم و عکس نتیجه محاسبه میشوند و سپس با استفاده از تبدیل affine هر کدام از عکسها به عکس نتیجه میروند. حال کافی است تنها قسمت مثلثی که در این مرحله محاسبه میشود به عکس نتیجه اضافه شود.\n",
    "برای این منظور با استفاده از تابع drawContours نقاط مثلث عکس نتیجه به آن داده میشود و هر پیکسل این مثلث برابر با مقدار [1,1,1] قرار داده میشود تا بعد از ضرب این آرایه در عکسی که بعد از تبدیل affine به دست آمده بود، تنها ناحیه مثلثی مورد نظر در تصویر بماند.\n",
    "از طرفی ممکن است به دلیل اشتراک روی ضلعهای مثلث بعضی از پیکسلهای عکس مقداری بیشتر از 255 پیدا کنند. برای اینکه\n",
    "از این اتفاق جلوگیری شود تنها جاهایی از دو عکس با هم جمع میشوند که در یکی از عکس ها (عکس نتیجه و عکس تبدیل شده) برابر با صفر باشند. این اتفاق با استفاده از\n",
    "تابع argwhere کتابحانه numpy انجام میشود.</div>\n"
   ],
   "metadata": {
    "collapsed": false
   }
  },
  {
   "cell_type": "code",
   "execution_count": 94,
   "metadata": {
    "id": "OkxuqM13BE1T"
   },
   "outputs": [],
   "source": [
    "frame_triangles = np.int32(frame_triangles)\n",
    "frames = []\n",
    "frames.append(vettel)\n",
    "for i in range(len(t)):\n",
    "    # print(i)\n",
    "    blank = np.zeros((vettel.shape[0], vettel.shape[1], 3), dtype=np.uint8)\n",
    "    for j in range(len(frame_triangles[i])):\n",
    "      p = [[vettel_triangles[j][0], vettel_triangles[j][1]],\n",
    "         [vettel_triangles[j][2], vettel_triangles[j][3]],\n",
    "         [vettel_triangles[j][4], vettel_triangles[j][5]]]\n",
    "      q = [[hamilton_triangles[j][0], hamilton_triangles[j][1]],\n",
    "              [hamilton_triangles[j][2], hamilton_triangles[j][3]],\n",
    "              [hamilton_triangles[j][4], hamilton_triangles[j][5]]]\n",
    "      p = np.float32(p)\n",
    "      q = np.float32(q)\n",
    "      temp = np.zeros((vettel.shape[1], vettel.shape[0], 3))\n",
    "      c = [[frame_triangles[i][j][0], frame_triangles[i][j][1]],\n",
    "                [frame_triangles[i][j][2], frame_triangles[i][j][3]],\n",
    "                [frame_triangles[i][j][4], frame_triangles[i][j][5]]]\n",
    "      c = np.float32(c)\n",
    "      M = cv2.getAffineTransform(p,c)\n",
    "      vettel_dst = cv2.warpAffine(vettel,M,(blank.shape[1], blank.shape[0]))\n",
    "      M = cv2.getAffineTransform(q,c)\n",
    "      hamilton_dst = cv2.warpAffine(hamilton,M,(blank.shape[1], blank.shape[0]))\n",
    "      dst = vettel_dst * (1 - t[i]) + hamilton_dst * t[i]\n",
    "      cc = np.int32(c)\n",
    "      cv2.drawContours(temp, [cc], 0, (1,1,1), -1)\n",
    "      dst = dst * temp\n",
    "      a = np.argwhere(np.logical_and(dst != [0, 0, 0], blank!=[0,0,0]))\n",
    "      dst[a[:,0], a[:,1]] = [0,0,0]\n",
    "      blank = blank + dst\n",
    "    frames.append(blank)"
   ]
  },
  {
   "cell_type": "markdown",
   "source": [
    "<div style=\"direction:rtl\">همه فریم های محاسبه شده در لیست frames نگه داری میشوند. حال با استفاده از تابع mimsave از کتابخانه\n",
    "imageio این فریم ها تبدیل به عکس gif میشوند.\n",
    "مقدار duration داده شده به تابع هم مدت زمانی است که هر فریم نمایش داده میشود. تنها نکته استفاده از imageio این است که این کتابخانه برخلاف opencv عکس ها را به صورت RGB میخواند و لازم است قبل استفاده از تابع mimsave همه عکس ها از  BGR به RGB برده شوند.</div>\n"
   ],
   "metadata": {
    "collapsed": false
   }
  },
  {
   "cell_type": "code",
   "execution_count": 95,
   "metadata": {
    "colab": {
     "base_uri": "https://localhost:8080/"
    },
    "id": "-YwTKdc29B_H",
    "outputId": "3da88e67-7540-481d-efd0-7dbaced28562"
   },
   "outputs": [
    {
     "name": "stdout",
     "output_type": "stream",
     "text": [
      "52\n"
     ]
    }
   ],
   "source": [
    "frames.append(hamilton)\n",
    "frames = np.uint8(frames)\n",
    "rgb = []\n",
    "for frame in frames:\n",
    "  f = cv2.cvtColor(frame, cv2.COLOR_BGR2RGB)\n",
    "  rgb.append(f)\n",
    "# print(len(frames))\n",
    "imageio.mimsave('res01.gif', rgb, duration=0.04)\n",
    "# print(\"--- %s seconds ---\" % (time.time() - start_time))\n"
   ]
  }
 ],
 "metadata": {
  "colab": {
   "collapsed_sections": [],
   "name": "q2.ipynb",
   "provenance": []
  },
  "kernelspec": {
   "display_name": "Python 3",
   "language": "python",
   "name": "python3"
  },
  "language_info": {
   "codemirror_mode": {
    "name": "ipython",
    "version": 3
   },
   "file_extension": ".py",
   "mimetype": "text/x-python",
   "name": "python",
   "nbconvert_exporter": "python",
   "pygments_lexer": "ipython3",
   "version": "3.8.3"
  },
  "pycharm": {
   "stem_cell": {
    "cell_type": "raw",
    "source": [],
    "metadata": {
     "collapsed": false
    }
   }
  }
 },
 "nbformat": 4,
 "nbformat_minor": 1
}