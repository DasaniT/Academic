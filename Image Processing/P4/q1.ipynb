{
 "cells": [
  {
   "cell_type": "markdown",
   "metadata": {},
   "source": [
    "<div style=\"direction:rtl\"> برای هر دو سوال علاوه بر فایل ipynb فایل py. هم برای اطمینان قرار داده شده است! </div>"
   ]
  },
  {
   "cell_type": "code",
   "execution_count": 50,
   "metadata": {
    "id": "Q2A9v6nfflpg"
   },
   "outputs": [],
   "source": [
    "import cv2\n",
    "import numpy as np\n",
    "import random as rnd\n"
   ]
  },
  {
   "cell_type": "markdown",
   "source": [
    "<div style=\"direction:rtl\"> در این تابع اولین بلاک به طور کاملا تصادفی به عکس اضافه میشود. </div>"
   ],
   "metadata": {
    "collapsed": false
   }
  },
  {
   "cell_type": "code",
   "execution_count": 51,
   "metadata": {
    "id": "U8wzpcNOPGpq"
   },
   "outputs": [],
   "source": [
    "def add_first_block(texture, result):\n",
    "  h = rnd.randrange(height - bs)\n",
    "  w = rnd.randrange(width - bs) \n",
    "  block = texture[h:h + bs, w:w + bs]\n",
    "  result[0:bs, 0:bs] = block\n",
    "  return result"
   ]
  },
  {
   "cell_type": "markdown",
   "source": [
    "<div style=\"direction:rtl\"> template matching با استفاده از روش normalized cross correlation انجام میشود.\n",
    "بعد یکی از مچ هایی که به اندازه سایز بلاک است و شباهتی بیشتر از 0.8 دارد به عنوان جواب برگردانده میشود.</div>"
   ],
   "metadata": {
    "collapsed": false
   }
  },
  {
   "cell_type": "code",
   "execution_count": null,
   "outputs": [],
   "source": [
    "def template_matching(texture, cs):\n",
    "  res_matrix = cv2.matchTemplate(texture, cs, cv2.TM_CCORR_NORMED)\n",
    "  a = np.argwhere(res_matrix >= 0.8)\n",
    "  r = rnd.randrange(len(a))\n",
    "  top_left = a[r]\n",
    "  h = top_left[0]\n",
    "  w = top_left[1]\n",
    "  while h + bs >= height or w + bs >= width:\n",
    "    r = rnd.randrange(len(a))\n",
    "    top_left = a[r]\n",
    "    h = top_left[0]\n",
    "    w = top_left[1]\n",
    "  return texture[h:h + bs, w:w + bs]"
   ],
   "metadata": {
    "collapsed": false,
    "pycharm": {
     "name": "#%%\n"
    }
   }
  },
  {
   "cell_type": "markdown",
   "source": [
    "<div style=\"direction:rtl\"> مینیمم سه عدد و موقعیت آن نسبت به عدد وسط را برمیگرداند. </div>"
   ],
   "metadata": {
    "collapsed": false
   }
  },
  {
   "cell_type": "code",
   "execution_count": null,
   "outputs": [],
   "source": [
    "def minimum(a, b, c):\n",
    "    if a < b and a <= c:\n",
    "        return a, -1\n",
    "    if b <= a and b <= c:\n",
    "        return b, 0\n",
    "    if c < a and c < b:\n",
    "        return c, 1"
   ],
   "metadata": {
    "collapsed": false,
    "pycharm": {
     "name": "#%%\n"
    }
   }
  },
  {
   "cell_type": "markdown",
   "source": [
    "<div style=\"direction:rtl\"> در این تابع مین کات عمودی انجام میشود. ابتدا عکس سمت چپ و راست از هم کم میشوند \n",
    " و به توان 2 می رسند. سپس مقادیر روی axis سوم جمع میشوند (درواقع مقدار آبی، قرمز و سبز برای هر پیکسل با هم جمع میشود). بعد با روش\n",
    " توضیح داده شده در کلاس روی آرایه محاسبه شده (ssd در کد پایین) مین کات اجرا میشود، و دو آرایه e و path برگردانده میشوند.\n",
    " برای مثال path[i][j] نشان می دهد که از چه خانه ای از سطر قبلی به این خانه بیاییم تا مقدار محاسبه شده در e کمینه باشد.</div>"
   ],
   "metadata": {
    "collapsed": false
   }
  },
  {
   "cell_type": "code",
   "execution_count": null,
   "outputs": [],
   "source": [
    "def min_cut_vertical(left, right):\n",
    "  temp = (left - right) ** 2\n",
    "  ssd = np.sum(temp, axis=2)\n",
    "  e = np.zeros((bs, css), dtype=np.float32)\n",
    "  path = np.zeros((bs, css))\n",
    "  e[0] = ssd[0]\n",
    "  for k in range(1, bs):\n",
    "      for l in range(0, css):\n",
    "          if l == 0:\n",
    "              min_last = minimum(np.inf, e[k-1][l], e[k-1][l+1])\n",
    "          elif l == css - 1:\n",
    "              min_last = minimum(e[k-1][l-1], e[k-1][l], np.inf)\n",
    "          else:\n",
    "              min_last = minimum(e[k-1][l-1], e[k-1][l], e[k-1][l+1])\n",
    "          e[k][l] = min_last[0] + ssd[k][l]\n",
    "          path[k][l] = min_last[1]\n",
    "  return (e, path)"
   ],
   "metadata": {
    "collapsed": false,
    "pycharm": {
     "name": "#%%\n"
    }
   }
  },
  {
   "cell_type": "markdown",
   "source": [
    "<div style=\"direction:rtl\"> این تابع با استفاده از نتیجه تابع بالا مسیر بهینه را پیدا میکند. ابتدا مقدار کمینه سطر آخر آرایه e را پیدا کرده\n",
    " سپس با استفاده از آرایه path مسیر را محاسبه میکند. در آخر لازم است که لیست برعکس شود چرا که مسیر از آخر محاسبه شده بود.</div>"
   ],
   "metadata": {
    "collapsed": false
   }
  },
  {
   "cell_type": "code",
   "execution_count": null,
   "outputs": [],
   "source": [
    "def find_min_path(cut_result):\n",
    "    e = cut_result[0]\n",
    "    path = cut_result[1]\n",
    "    arg = np.argmin(e[bs-1])\n",
    "    results = [arg]\n",
    "    # for k in range(1, bs):\n",
    "    #     results.append(int(path[bs - k - 1][results[k-1]]) + int(results[k-1]))\n",
    "    results.extend(int(path[bs - k - 1][results[k-1]]) + int(results[k-1]) for k in range(1, bs))\n",
    "    results.reverse()\n",
    "    return results"
   ],
   "metadata": {
    "collapsed": false,
    "pycharm": {
     "name": "#%%\n"
    }
   }
  },
  {
   "cell_type": "markdown",
   "source": [
    "<div style=\"direction:rtl\"> این تابع فقط برای سطر اول استفاده و بلاک اول سطرهای دیگر استفاده میشود.\n",
    " کاری که این تابع انجام میدهد، مقداردهی به قسمت مشترک دو بلاک با استفاده از مسیر مشخص شده توسط دو تابع قبل است. برای مثال\n",
    " یه مسیر عمودی را در نظر بگیرید که در path مشخص شده، برای هر سطر این قسمت مشترک پیکسل هایی سمت چپ پیکسل موجود در مسیر برای آن سطر قرار دارند مقدارشان را از\n",
    " بلاک سمت چپ و در غیر اینصورت مقدارشان را از بلاک سمت راست میگیرند.</div>"
   ],
   "metadata": {
    "collapsed": false
   }
  },
  {
   "cell_type": "code",
   "execution_count": null,
   "outputs": [],
   "source": [
    "def compute_common_section(block, c_block, path, format):\n",
    "    if format == 'vertical':\n",
    "      section = np.zeros((bs, css, 3), dtype=np.uint8)\n",
    "      for k in range(bs):\n",
    "        temp = path[k]\n",
    "        section[k, 0:temp + 1] = block[k, 0:temp + 1]\n",
    "        section[k, temp + 1:css] = c_block[k, temp+1:css]\n",
    "          # for l in range(css):\n",
    "          #     if l <= path[k]:\n",
    "          #         section[k][l] = block[k][l]\n",
    "          #     else:\n",
    "          #         section[k][l] = c_block[k][l]\n",
    "      return section\n",
    "    else:\n",
    "      section = np.zeros((css, bs, 3), dtype=np.uint8)\n",
    "      for k in range(bs):\n",
    "        temp = path[k]\n",
    "        section[0:temp + 1, k] = block[0:temp+1, k]\n",
    "        section[temp+1:css, k] = c_block[temp+1:css, k]\n",
    "          # for l in range(css):\n",
    "              # if l <= path[k]:\n",
    "              #     section[l][k] = block[l][k]\n",
    "              # else:\n",
    "              #     section[l][k] = c_block[l][k]\n",
    "      return section\n",
    "    "
   ],
   "metadata": {
    "collapsed": false,
    "pycharm": {
     "name": "#%%\n"
    }
   }
  },
  {
   "cell_type": "markdown",
   "source": [
    "<div style=\"direction:rtl\">  سطر اول را با استفاده از تابع های توضیح داده شده به عکس اضافه میکند. </div>"
   ],
   "metadata": {
    "collapsed": false
   }
  },
  {
   "cell_type": "code",
   "execution_count": null,
   "outputs": [],
   "source": [
    "def add_first_row(texture, result):\n",
    "  result = add_first_block(texture, result)\n",
    "  for k in range(1, j_range):\n",
    "    block = np.zeros((bs,bs,3), dtype=np.uint8)\n",
    "    cs = result[0:bs, k * (bs - css):k * (bs - css) + css] # common section\n",
    "    new_block = template_matching(texture, cs)\n",
    "    # cv2.imwrite('ap.jpg', new_block)\n",
    "    cut_result = min_cut_vertical(cs, new_block[0:bs, 0:css])\n",
    "    min_path = find_min_path(cut_result)\n",
    "    new_common_section = compute_common_section(cs, new_block[0:bs, 0:css], min_path, 'vertical')\n",
    "    block[:, 0:css] = new_common_section\n",
    "    block[:, css:bs] = new_block[:, css:bs]\n",
    "    result[0:bs, (bs - css) * k:(bs - css) * k + bs] = block\n",
    "  return result"
   ],
   "metadata": {
    "collapsed": false,
    "pycharm": {
     "name": "#%%\n"
    }
   }
  },
  {
   "cell_type": "markdown",
   "source": [
    "<div style=\"direction:rtl\"> مین کات افقی را انجام میدهد. در واقع هر کدام از قسمت ها را 3 بار در جهت خلاف عقربه های ساعت 90 درجه\n",
    " میچرخاند و این دو قسمت جدید را به همان تابع min_cut_vertical میدهد تا مین کات را محاسبه کند. </div>"
   ],
   "metadata": {
    "collapsed": false
   }
  },
  {
   "cell_type": "code",
   "execution_count": 52,
   "metadata": {
    "id": "8TPPu8rxrmOV"
   },
   "outputs": [],
   "source": [
    "def min_cut_horizontal(up, down):\n",
    "  up = np.rot90(up, 3)\n",
    "  down = np.rot90(down, 3)\n",
    "  return min_cut_vertical(up , down)"
   ]
  },
  {
   "cell_type": "markdown",
   "source": [
    "<div style=\"direction:rtl\"> این تابع اولین بلاک ستونهای غیر اول را به عکس اضافه میکند. ابتدا توسط template matching قسمت های\n",
    " مشابه قسمت پایین بلاک بالایی پیدا میشوند، یکی از آنها به طور رندوم برگردانده میشود. مین کات بین قسمت مشترک بلاک قدیمی و جدید پیدا میشود. با استفاده از مین کات یافته شده\n",
    " قسمت مشترک محاسبه شده و بلاک جدید به عکس اضافه میشود.</div>"
   ],
   "metadata": {
    "collapsed": false
   }
  },
  {
   "cell_type": "code",
   "execution_count": null,
   "outputs": [],
   "source": [
    "def add_first_block_mid_row(texture, result, i):\n",
    "  block = np.zeros((bs,bs,3), dtype=np.uint8)\n",
    "  cs = result[i * (bs - css):i * (bs - css) + css, 0:bs] # cs = common section, css = common section size\n",
    "  # cv2.imwrite('cs.jpg', cs)\n",
    "  new_block = template_matching(texture, cs)\n",
    "  cut_result = min_cut_horizontal(cs, new_block[0:css])\n",
    "  min_path = find_min_path(cut_result)\n",
    "  new_common_section = compute_common_section(cs, new_block[0:css], min_path, 'horizontal')\n",
    "  block[0:css] = new_common_section\n",
    "  block[css:bs] = new_block[css:bs]\n",
    "  result[i * (bs - css) : i * (bs - css) + bs, 0:bs] = block\n",
    "  return result"
   ],
   "metadata": {
    "collapsed": false,
    "pycharm": {
     "name": "#%%\n"
    }
   }
  },
  {
   "cell_type": "markdown",
   "source": [
    "<div style=\"direction:rtl\">  این تابع template matching ال (L) شکل را انجام میدهد.\n",
    " این عمل با استفاده از پارامتر mask تابع matchTemplate انجام میشود. maskی که پاس داده میشود، باید روی پیکسلهایی که میخواهیم روی آن template matching انجام شود مقدار غیر 0 داشته باشند. بقیه تابع مشابه تابع template_matching است.</div>"
   ],
   "metadata": {
    "collapsed": false
   }
  },
  {
   "cell_type": "code",
   "execution_count": null,
   "outputs": [],
   "source": [
    "def L_shaped_template_matching(texture, cs):\n",
    "  mask = np.zeros((bs, bs, 3))\n",
    "  mask[0:css] = [1, 1, 1]\n",
    "  mask[:, 0:css] = [1, 1, 1]\n",
    "  res_matrix = cv2.matchTemplate(texture, cs, cv2.TM_CCORR_NORMED, mask=mask)\n",
    "  # min_val, max_val, min_loc, max_loc = cv2.minMaxLoc(res_matrix)\n",
    "  a = np.argwhere(res_matrix >= 0.8)\n",
    "  r = rnd.randrange(len(a))\n",
    "  top_left = a[r]\n",
    "  h = top_left[0]\n",
    "  w = top_left[1]\n",
    "  while h + bs >= height or w + bs >= width:\n",
    "    # print('here')\n",
    "    r = rnd.randrange(len(a))\n",
    "    top_left = a[r]\n",
    "    h = top_left[0]\n",
    "    w = top_left[1]\n",
    "  return texture[h:h + bs, w:w + bs]"
   ],
   "metadata": {
    "collapsed": false,
    "pycharm": {
     "name": "#%%\n"
    }
   }
  },
  {
   "cell_type": "markdown",
   "source": [
    "<div style=\"direction:rtl\"> در قسمت های Lشکل که یک مسیر افقی مین کات و یک مسیر عمودی مین کات داریم\n",
    "این تابع نقطه برخورد این دو مسیر را در مربع بالا سمت چپ این قسمت Lشکل محاسبه میکند. برای محاسبه از این نکته استفاده میشود که مسیر عمودی همیشه در بالا و سمت راست مسیر افقی قرار دارد و هر جا که\n",
    "مسیر عمودی به پایین یا سمت چپ مسیر افقی آمد، آن نقطه به عنوان نقطه برخورد برگردانده میشود.</div>"
   ],
   "metadata": {
    "collapsed": false
   }
  },
  {
   "cell_type": "code",
   "execution_count": null,
   "outputs": [],
   "source": [
    "def find_intersection_point(vertical_path, horizontal_path):\n",
    "  # intersection_point = [10, 10]\n",
    "  x = np.arange(0, bs)\n",
    "  xx = x - horizontal_path # should be positive\n",
    "  yy = vertical_path - x # should be negative\n",
    "  xx_zero = np.where(xx==0)\n",
    "  yy_zero = np.where(yy==0)\n",
    "  if len(np.intersect1d(xx_zero[0], yy_zero[0])) != 0:\n",
    "    return xx_zero[0][0], yy_zero[0][0]\n",
    "  xx_positive = np.where(xx > 0)\n",
    "  yy_negative = np.where(yy < 0)\n",
    "  if xx_positive[0][0] < yy_negative[0][0]:\n",
    "    return xx_positive[0][0], vertical_path[xx_positive[0][0]]\n",
    "  else:\n",
    "    return horizontal_path[yy_negative[0][0]], yy_negative[0][0]\n",
    "  "
   ],
   "metadata": {
    "collapsed": false,
    "pycharm": {
     "name": "#%%\n"
    }
   }
  },
  {
   "cell_type": "markdown",
   "source": [
    "<div style=\"direction:rtl\"> از این تابع برای بلاک های سطرها و ستونهای غیر اول استفاده میشود. در ابتدا نقطه برخورد دو\n",
    " مسیر عمودی و افقی در قسمت Lشکل محاسبه میشود. سپس پیکسلهای بالا و سمت چپ این نقطه، مقدارشان را از خود عکس میگیرند. اما در حالتهای دیگر با توجه به اینکه پیکسل بالا یا پایین مسیر افقی و یا چپ یا راست مسیر عمودی قرار دارد، مقداردهی انجام میشود.</div>"
   ],
   "metadata": {
    "collapsed": false
   }
  },
  {
   "cell_type": "code",
   "execution_count": null,
   "outputs": [],
   "source": [
    "def compute_new_block(old_block, new_block, vertical_path, horizontal_path):\n",
    "  intersection_point = find_intersection_point(vertical_path, horizontal_path)\n",
    "  x = intersection_point[0]\n",
    "  y = intersection_point[1]\n",
    "  # print(intersection_point)\n",
    "  # print(x)\n",
    "  # print(y)\n",
    "  block = np.zeros((bs, bs, 3), dtype=np.uint8)\n",
    "  for k in range(css):\n",
    "    for l in range(css):\n",
    "      if k <= x and l <= y:\n",
    "        block[k][l] = old_block[k][l]\n",
    "      if k > x:\n",
    "        if l <= vertical_path[k]:\n",
    "          block[k][l] = old_block[k][l]\n",
    "        else:\n",
    "          block[k][l] = new_block[k][l]\n",
    "      elif l > y:\n",
    "        if k <= horizontal_path[l]:\n",
    "          block[k][l] = old_block[k][l]\n",
    "        else:\n",
    "          block[k][l] = new_block[k][l]\n",
    "  \n",
    "  for k in range(css, bs):\n",
    "    # temp = vertical_path[k]\n",
    "    # block[k, 0:temp+1] = old_block[k, 0:temp+1]\n",
    "    # block[k, temp+1:css] = new_block[k ,temp+1:css]\n",
    "    for l in range(css):\n",
    "        if l <= vertical_path[k]:\n",
    "            block[k][l] = old_block[k][l]\n",
    "        else:\n",
    "            block[k][l] = new_block[k][l]\n",
    "    \n",
    "  for k in range(css, bs):\n",
    "    # temp = horizontal_path[k]\n",
    "    # block[0:temp+1, k] = old_block[0:temp+1, k]\n",
    "    # block[temp+1:css, k] = new_block[temp+1:css, k]\n",
    "      for l in range(css):\n",
    "          if l <= horizontal_path[k]:\n",
    "              block[l][k] = old_block[l][k]\n",
    "          else:\n",
    "              block[l][k] = new_block[l][k]\n",
    "  block[css:bs, css:bs] = new_block[css:bs, css:bs]\n",
    "  return block\n",
    "  "
   ],
   "metadata": {
    "collapsed": false,
    "pycharm": {
     "name": "#%%\n"
    }
   }
  },
  {
   "cell_type": "markdown",
   "source": [
    "<div style=\"direction:rtl\">  سطرهای غیر اول را به عکس اضافه میکند. ابتدا قسمت مشترک را از عکس برمیدارد و با استفاده از \n",
    " template matching بلاکهای مشابه را پیدا میکند. بعد با استفاده از بلاک جدید مین کات قسمت Lشکل\n",
    "  (یک مسیر افقی و یک مسیر عمودی) را می یابد. بعد با استفاده از این مسیر و نقطه برخورد دو مسیر مقداردهی های لازم انجام میشود و بلاک جدید به عکس اضافه میشود.</div>"
   ],
   "metadata": {
    "collapsed": false
   }
  },
  {
   "cell_type": "code",
   "execution_count": null,
   "outputs": [],
   "source": [
    "def add_mid_row(texture, result, i):\n",
    "  result = add_first_block_mid_row(texture, result, i)\n",
    "  for k in range(1, j_range):\n",
    "    # print(k)\n",
    "    cs = result[i * (bs - css): i * (bs - css) + bs, k * (bs - css): k * (bs - css) + bs]\n",
    "    new_block = L_shaped_template_matching(texture, cs)\n",
    "    vertical_cs = result[i * (bs - css): i * (bs - css) + bs, k * (bs - css):k * (bs - css) + css]\n",
    "    horizontal_cs = result[i * (bs - css): i * (bs - css) + css, k * (bs - css):k * (bs - css) + bs]\n",
    "    vertical_cut_result = min_cut_vertical(vertical_cs, new_block[:, 0:css])\n",
    "    horizontal_cut_result = min_cut_horizontal(horizontal_cs, new_block[0:css])\n",
    "    vertical_min_path = find_min_path(vertical_cut_result)\n",
    "    horizontal_min_path = find_min_path(horizontal_cut_result)\n",
    "    block = compute_new_block(cs, new_block, vertical_min_path, horizontal_min_path)\n",
    "    result[i * (bs - css):i * (bs - css) + bs, k * (bs - css): k * (bs - css) + bs] = block\n",
    "  return result\n",
    "    "
   ],
   "metadata": {
    "collapsed": false,
    "pycharm": {
     "name": "#%%\n"
    }
   }
  },
  {
   "cell_type": "markdown",
   "source": [
    "<div style=\"direction:rtl\"> اندازه بلاک 200 و اندازه قسمت مشترک 30 در نظر گرفته شده است. نتیجه در res01.jpg ذخیره میشود.\n",
    " البته بدیهی است به علت تصادفی بودن فرآیند، هر بار یک نتیجه جدید به دست خواهد آمد. لازم به ذکر است که یک نتیجه دیگر با اندازه بلاک 100 و اندازه قسمت مشترک 15 هم با نام res01-1.jpg در فایل ها موجود است. البته مقدار آستانه موجود در دو تابع template matching هم به ترتیب به 0.95 و 0.8 تغییر کرد. علت انتخاب بلاک سایز 200 هم به دلیل سرعت اجرا بود، چون با اندازه 100 تقریبا 5 دقیقه ران شدن کد طول میکشید که در این صورت زمان اجرا تقریبا 1 دقیقه است.</div>"
   ],
   "metadata": {
    "collapsed": false
   }
  },
  {
   "cell_type": "code",
   "execution_count": null,
   "outputs": [],
   "source": [
    "\n",
    "texture = cv2.imread('./texture1.jpg')\n",
    "result = np.zeros((3000, 3000, 3), dtype=np.uint8)\n",
    "bs = 200 # block size\n",
    "css = 30 # common section size\n",
    "\n",
    "height = texture.shape[0]\n",
    "width = texture.shape[1]\n",
    "i_range = ((2600 - bs) // (bs - css)) + 1\n",
    "j_range = ((2600 - bs) // (bs - css)) + 1\n",
    "# print(j_range)\n",
    "# import time\n",
    "# start_time = time.time()\n",
    "\n",
    "for i in range(i_range):\n",
    "  # print(i)\n",
    "  if i == 0:\n",
    "    result = add_first_row(texture, result)\n",
    "  else:\n",
    "    result = add_mid_row(texture, result, i)\n",
    "# print(\"--- %s seconds ---\" % (time.time() - start_time))\n",
    "cv2.imwrite('res01.jpg', result[0:2500, 0:2500])\n"
   ],
   "metadata": {
    "collapsed": false,
    "pycharm": {
     "name": "#%%\n"
    }
   }
  }
 ],
 "metadata": {
  "colab": {
   "collapsed_sections": [],
   "name": "q1.ipynb",
   "provenance": []
  },
  "kernelspec": {
   "display_name": "Python 3",
   "language": "python",
   "name": "python3"
  },
  "language_info": {
   "codemirror_mode": {
    "name": "ipython",
    "version": 3
   },
   "file_extension": ".py",
   "mimetype": "text/x-python",
   "name": "python",
   "nbconvert_exporter": "python",
   "pygments_lexer": "ipython3",
   "version": "3.8.3"
  },
  "pycharm": {
   "stem_cell": {
    "cell_type": "raw",
    "source": [],
    "metadata": {
     "collapsed": false
    }
   }
  }
 },
 "nbformat": 4,
 "nbformat_minor": 1
}